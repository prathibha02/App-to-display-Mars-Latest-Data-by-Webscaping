{
 "cells": [
  {
   "cell_type": "code",
   "execution_count": 1,
   "id": "542bb6c0",
   "metadata": {},
   "outputs": [],
   "source": [
    "# Dependencies\n",
    "import pandas as pd\n",
    "import pymongo\n",
    "from bs4 import BeautifulSoup\n",
    "import requests\n",
    "from splinter import Browser\n",
    "from webdriver_manager.chrome import ChromeDriverManager"
   ]
  },
  {
   "cell_type": "code",
   "execution_count": null,
   "id": "d63771e9",
   "metadata": {},
   "outputs": [],
   "source": [
    "#def scrape_mars_news(browser):\n",
    "executable_path = {'executable_path': ChromeDriverManager().install()}\n",
    "print(executable_path)"
   ]
  },
  {
   "cell_type": "code",
   "execution_count": null,
   "id": "be8d3e1d",
   "metadata": {},
   "outputs": [],
   "source": [
    "#pip install selenium"
   ]
  },
  {
   "cell_type": "code",
   "execution_count": null,
   "id": "37cedd1a",
   "metadata": {},
   "outputs": [],
   "source": [
    "browser = Browser('chrome', **executable_path, headless=False)"
   ]
  },
  {
   "cell_type": "code",
   "execution_count": null,
   "id": "0c28eda9",
   "metadata": {},
   "outputs": [],
   "source": [
    "listing = {}\n",
    "listings_df = pd.DataFrame()"
   ]
  },
  {
   "cell_type": "code",
   "execution_count": null,
   "id": "fd114eb9",
   "metadata": {},
   "outputs": [],
   "source": [
    "url = 'https://redplanetscience.com/'\n",
    "browser.visit(url)"
   ]
  },
  {
   "cell_type": "code",
   "execution_count": null,
   "id": "bf2340ec",
   "metadata": {},
   "outputs": [],
   "source": [
    "# HTML object\n",
    "html = browser.html\n",
    "# Parse HTML with Beautiful Soup\n",
    "soup = BeautifulSoup(html, 'html.parser')"
   ]
  },
  {
   "cell_type": "markdown",
   "id": "0120247a",
   "metadata": {},
   "source": [
    "### NASA Mars News"
   ]
  },
  {
   "cell_type": "code",
   "execution_count": null,
   "id": "b4646975",
   "metadata": {},
   "outputs": [],
   "source": [
    "# Examine the results, then determine element that contains sought info\n",
    "# results are returned as an iterable list\n",
    "results = soup.find_all('div', class_='list_text')\n",
    "results"
   ]
  },
  {
   "cell_type": "code",
   "execution_count": null,
   "id": "269fb2d8",
   "metadata": {},
   "outputs": [],
   "source": [
    "# Loop through returned results\n",
    "for result in results:\n",
    "    \n",
    "    # Error handling\n",
    "    try:\n",
    "        # Identify and return title of listing\n",
    "        date = result.find('div', class_='list_date').text\n",
    "        title = result.find('div', class_='content_title').text\n",
    "        # Identify and return the explanation of the listing\n",
    "        paragraph = result.find('div', class_='article_teaser_body').text\n",
    "       \n",
    "\n",
    "        # Run only if date and title and paragraph are available\n",
    "        if (date and title and paragraph):\n",
    "            # Print results\n",
    "            print('-------------')\n",
    "            print(date)\n",
    "            print(title)\n",
    "            print(paragraph)\n",
    "            \n",
    "            listing = {'date':date, 'title': title, 'paragraph':paragraph}\n",
    "            listings_df = pd.concat([listings_df, listing], axis=0)\n",
    "        \n",
    "    except:       \n",
    "            print('Data not found')\n"
   ]
  },
  {
   "cell_type": "code",
   "execution_count": null,
   "id": "7c18917f",
   "metadata": {},
   "outputs": [],
   "source": [
    "browser.quit()\n",
    "#     return(listings_df)"
   ]
  },
  {
   "cell_type": "markdown",
   "id": "f3a6bc04",
   "metadata": {},
   "source": [
    "### JPL Mars Space Images—Featured Image"
   ]
  },
  {
   "cell_type": "code",
   "execution_count": null,
   "id": "612eaf3e",
   "metadata": {},
   "outputs": [],
   "source": [
    "executable_path = {'executable_path': ChromeDriverManager().install()}\n",
    "browser = Browser('chrome', **executable_path, headless=False)"
   ]
  },
  {
   "cell_type": "code",
   "execution_count": null,
   "id": "7157e802",
   "metadata": {},
   "outputs": [],
   "source": [
    "url = 'https://spaceimages-mars.com/'\n",
    "browser.visit(url)"
   ]
  },
  {
   "cell_type": "code",
   "execution_count": null,
   "id": "dccdeed4",
   "metadata": {},
   "outputs": [],
   "source": [
    "# HTML Object \n",
    "html_image = browser.html\n",
    "\n",
    "# Parse HTML with Beautiful Soup\n",
    "soup = BeautifulSoup(html_image, 'html.parser')\n",
    "\n",
    "relative_image_path = soup.find_all('img')[1][\"src\"]\n",
    "\n",
    "featured_image_url = url + relative_image_path\n",
    "print(featured_image_url)"
   ]
  },
  {
   "cell_type": "code",
   "execution_count": null,
   "id": "93b804a3",
   "metadata": {},
   "outputs": [],
   "source": [
    "browser.quit()"
   ]
  },
  {
   "cell_type": "markdown",
   "id": "cd20bdaf",
   "metadata": {},
   "source": [
    "### Mars Facts"
   ]
  },
  {
   "cell_type": "code",
   "execution_count": null,
   "id": "e8abbb26",
   "metadata": {},
   "outputs": [],
   "source": [
    "url = 'https://galaxyfacts-mars.com'\n",
    "tables = pd.read_html(url)\n",
    "tables"
   ]
  },
  {
   "cell_type": "code",
   "execution_count": null,
   "id": "71afa1b3",
   "metadata": {},
   "outputs": [],
   "source": [
    "type(tables)"
   ]
  },
  {
   "cell_type": "code",
   "execution_count": null,
   "id": "a49c2628",
   "metadata": {},
   "outputs": [],
   "source": [
    "table_df = tables[0]\n",
    "table_df "
   ]
  },
  {
   "cell_type": "code",
   "execution_count": null,
   "id": "006a2ff8",
   "metadata": {},
   "outputs": [],
   "source": [
    "# Drop the earth data from the dataframe\n",
    "table_df = table_df.drop([2], axis=1)\n",
    "table_df = table_df.iloc[1: , :]\n",
    "table_df.columns=['Description', 'Values']\n",
    "table_df.set_index('Description', inplace=True)\n",
    "table_df"
   ]
  },
  {
   "cell_type": "code",
   "execution_count": null,
   "id": "cd2dd11c",
   "metadata": {},
   "outputs": [],
   "source": [
    "# Convert the table back to HTML\n",
    "html_table = table_df.to_html()\n",
    "html_table = html_table.replace('\\n','')\n",
    "html_table"
   ]
  },
  {
   "cell_type": "markdown",
   "id": "1a0d119e",
   "metadata": {},
   "source": [
    "### Mars Hemispheres"
   ]
  },
  {
   "cell_type": "code",
   "execution_count": null,
   "id": "33570a68",
   "metadata": {},
   "outputs": [],
   "source": [
    "executable_path = {'executable_path': ChromeDriverManager().install()}\n",
    "browser = Browser('chrome', **executable_path, headless=False)\n",
    "url = 'https://marshemispheres.com/'\n",
    "browser.visit(url)"
   ]
  },
  {
   "cell_type": "code",
   "execution_count": null,
   "id": "8b12cc3a",
   "metadata": {},
   "outputs": [],
   "source": [
    "# Get a List of All the Hemispheres\n",
    "# HTML Object\n",
    "html_hemispheres = browser.html\n",
    "\n",
    "# Parse HTML with Beautiful Soup\n",
    "soup = BeautifulSoup(html_hemispheres, 'html.parser')\n",
    "\n",
    "# Retreive all items that contain mars hemispheres information\n",
    "items = soup.find_all('div', class_='item')\n",
    "\n",
    "# Create empty list for hemisphere urls \n",
    "hemisphere_image_urls = []\n",
    "\n",
    "# Store the main_ul \n",
    "hemispheres_main_url = 'https://marshemispheres.com/'\n",
    "\n",
    "# Loop through the items previously stored\n",
    "for i in items: \n",
    "    # Store title\n",
    "    title = i.find('h3').text\n",
    "    \n",
    "    # Store link that leads to full image website\n",
    "    partial_img_url = i.find('a', class_='itemLink product-item')['href']\n",
    "    \n",
    "    # Visit the link that contains the full image website \n",
    "    browser.visit(hemispheres_main_url + partial_img_url)\n",
    "    \n",
    "    # HTML Object of individual hemisphere information website \n",
    "    partial_img_html = browser.html\n",
    "    \n",
    "    # Parse HTML with Beautiful Soup for every individual hemisphere information website \n",
    "    soup = BeautifulSoup( partial_img_html, 'html.parser')\n",
    "    \n",
    "    # Retrieve full image source \n",
    "  \n",
    "    img_url = hemispheres_main_url + soup.find('img', class_='wide-image')['src']\n",
    "    \n",
    "    # Append the retreived information into a list of dictionaries \n",
    "    hemisphere_image_urls.append({\"title\" : title, \"img_url\" : img_url})\n",
    "    \n",
    "\n",
    "# Display hemisphere_image_urls\n",
    "hemisphere_image_urls"
   ]
  },
  {
   "cell_type": "code",
   "execution_count": null,
   "id": "3165c7a0",
   "metadata": {},
   "outputs": [],
   "source": [
    "browser.quit()"
   ]
  }
 ],
 "metadata": {
  "kernelspec": {
   "display_name": "Python 3 (ipykernel)",
   "language": "python",
   "name": "python3"
  },
  "language_info": {
   "codemirror_mode": {
    "name": "ipython",
    "version": 3
   },
   "file_extension": ".py",
   "mimetype": "text/x-python",
   "name": "python",
   "nbconvert_exporter": "python",
   "pygments_lexer": "ipython3",
   "version": "3.8.13"
  },
  "vscode": {
   "interpreter": {
    "hash": "c6b89e2becb865be8d0ce5a02c296fa722ff0450a5ffc6e16d01ad482c6c280f"
   }
  }
 },
 "nbformat": 4,
 "nbformat_minor": 5
}
