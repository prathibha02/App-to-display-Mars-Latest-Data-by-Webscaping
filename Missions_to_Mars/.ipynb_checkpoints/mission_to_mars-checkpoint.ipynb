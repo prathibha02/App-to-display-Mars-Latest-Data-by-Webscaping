{
 "cells": [
  {
   "cell_type": "code",
   "execution_count": 1,
   "id": "542bb6c0",
   "metadata": {},
   "outputs": [],
   "source": [
    "# Dependencies\n",
    "import pandas as pd\n",
    "import pymongo\n",
    "from bs4 import BeautifulSoup\n",
    "import requests\n",
    "from splinter import Browser\n",
    "from webdriver_manager.chrome import ChromeDriverManager"
   ]
  },
  {
   "cell_type": "code",
   "execution_count": 2,
   "id": "d63771e9",
   "metadata": {},
   "outputs": [
    {
     "name": "stdout",
     "output_type": "stream",
     "text": [
      "{'executable_path': 'C:\\\\Users\\\\pravi\\\\.wdm\\\\drivers\\\\chromedriver\\\\win32\\\\105.0.5195\\\\chromedriver.exe'}\n"
     ]
    }
   ],
   "source": [
    "#def scrape_mars_news():\n",
    "executable_path = {'executable_path': ChromeDriverManager().install()}\n",
    "print(executable_path)"
   ]
  },
  {
   "cell_type": "code",
   "execution_count": 3,
   "id": "be8d3e1d",
   "metadata": {},
   "outputs": [],
   "source": [
    "#pip install selenium"
   ]
  },
  {
   "cell_type": "code",
   "execution_count": 4,
   "id": "37cedd1a",
   "metadata": {},
   "outputs": [],
   "source": [
    "browser = Browser('chrome', **executable_path, headless=False)"
   ]
  },
  {
   "cell_type": "code",
   "execution_count": 5,
   "id": "0c28eda9",
   "metadata": {},
   "outputs": [],
   "source": [
    "listing = {}\n",
    "listings_df = pd.DataFrame()"
   ]
  },
  {
   "cell_type": "code",
   "execution_count": 6,
   "id": "fd114eb9",
   "metadata": {},
   "outputs": [],
   "source": [
    "url = 'https://redplanetscience.com/'\n",
    "browser.visit(url)"
   ]
  },
  {
   "cell_type": "code",
   "execution_count": 7,
   "id": "bf2340ec",
   "metadata": {},
   "outputs": [],
   "source": [
    "# HTML object\n",
    "html = browser.html\n",
    "# Parse HTML with Beautiful Soup\n",
    "soup = BeautifulSoup(html, 'html.parser')"
   ]
  },
  {
   "cell_type": "markdown",
   "id": "0120247a",
   "metadata": {},
   "source": [
    "### NASA Mars News"
   ]
  },
  {
   "cell_type": "code",
   "execution_count": 8,
   "id": "b4646975",
   "metadata": {},
   "outputs": [
    {
     "data": {
      "text/plain": [
       "[<div class=\"list_text\">\n",
       " <div class=\"list_date\">September 14, 2022</div>\n",
       " <div class=\"content_title\">Two Rovers to Roll on Mars Again: Curiosity and Mars 2020</div>\n",
       " <div class=\"article_teaser_body\">They look like twins. But under the hood, the rover currently exploring the Red Planet and the one launching there this summer have distinct science tools and roles to play.</div>\n",
       " </div>,\n",
       " <div class=\"list_text\">\n",
       " <div class=\"list_date\">September 13, 2022</div>\n",
       " <div class=\"content_title\">Nine Finalists Chosen in NASA's Mars 2020 Rover Naming Contest</div>\n",
       " <div class=\"article_teaser_body\">Nine finalists have been chosen in the essay contest for K-12 students across U.S. to name NASA's next Mars rover. Now you can help by voting for your favorite. </div>\n",
       " </div>,\n",
       " <div class=\"list_text\">\n",
       " <div class=\"list_date\">September 13, 2022</div>\n",
       " <div class=\"content_title\">The Detective Aboard NASA's Perseverance Rover</div>\n",
       " <div class=\"article_teaser_body\">An instrument called SHERLOC will, with the help of its partner WATSON, hunt for signs of ancient life by detecting organic molecules and minerals.</div>\n",
       " </div>,\n",
       " <div class=\"list_text\">\n",
       " <div class=\"list_date\">September 12, 2022</div>\n",
       " <div class=\"content_title\">Newfound Martian Aurora Actually the Most Common; Sheds Light on Mars' Changing Climate</div>\n",
       " <div class=\"article_teaser_body\">A type of Martian aurora first identified by NASA’s MAVEN spacecraft in 2016 is actually the most common form of aurora occurring on the Red Planet, according to new results from the mission.</div>\n",
       " </div>,\n",
       " <div class=\"list_text\">\n",
       " <div class=\"list_date\">September 9, 2022</div>\n",
       " <div class=\"content_title\">NASA's Curiosity Mars Rover Snaps Its Highest-Resolution Panorama Yet</div>\n",
       " <div class=\"article_teaser_body\">To go along with the stunning 1.8-billion-pixel image, a new video offers a sweeping view of the Red Planet.</div>\n",
       " </div>,\n",
       " <div class=\"list_text\">\n",
       " <div class=\"list_date\">September 7, 2022</div>\n",
       " <div class=\"content_title\">Mars Is Getting a New Robotic Meteorologist</div>\n",
       " <div class=\"article_teaser_body\">Sensors on NASA's Perseverance will help prepare for future human exploration by taking weather measurements and studying dust particles.</div>\n",
       " </div>,\n",
       " <div class=\"list_text\">\n",
       " <div class=\"list_date\">September 5, 2022</div>\n",
       " <div class=\"content_title\">The MarCO Mission Comes to an End</div>\n",
       " <div class=\"article_teaser_body\">The pair of briefcase-sized satellites made history when they sailed past Mars in 2019.</div>\n",
       " </div>,\n",
       " <div class=\"list_text\">\n",
       " <div class=\"list_date\">August 31, 2022</div>\n",
       " <div class=\"content_title\">NASA's Perseverance Rover Is Midway to Mars </div>\n",
       " <div class=\"article_teaser_body\">Sometimes half measures can be a good thing – especially on a journey this long. The agency's latest rover only has about 146 million miles left to reach its destination.</div>\n",
       " </div>,\n",
       " <div class=\"list_text\">\n",
       " <div class=\"list_date\">August 28, 2022</div>\n",
       " <div class=\"content_title\">NASA's Curiosity Takes Selfie With 'Mary Anning' on the Red Planet</div>\n",
       " <div class=\"article_teaser_body\">The Mars rover has drilled three samples of rock in this clay-enriched region since arriving in July.</div>\n",
       " </div>,\n",
       " <div class=\"list_text\">\n",
       " <div class=\"list_date\">August 22, 2022</div>\n",
       " <div class=\"content_title\">NASA's Perseverance Rover 100 Days Out</div>\n",
       " <div class=\"article_teaser_body\">Mark your calendars: The agency's latest rover has only about 8,640,000 seconds to go before it touches down on the Red Planet, becoming history's next Mars car.</div>\n",
       " </div>,\n",
       " <div class=\"list_text\">\n",
       " <div class=\"list_date\">August 21, 2022</div>\n",
       " <div class=\"content_title\">A Year of Surprising Science From NASA's InSight Mars Mission</div>\n",
       " <div class=\"article_teaser_body\">A batch of new papers summarizes the lander's findings above and below the surface of the Red Planet.</div>\n",
       " </div>,\n",
       " <div class=\"list_text\">\n",
       " <div class=\"list_date\">August 20, 2022</div>\n",
       " <div class=\"content_title\">AI Is Helping Scientists Discover Fresh Craters on Mars</div>\n",
       " <div class=\"article_teaser_body\">It's the first time machine learning has been used to find previously unknown craters on the Red Planet.</div>\n",
       " </div>,\n",
       " <div class=\"list_text\">\n",
       " <div class=\"list_date\">August 20, 2022</div>\n",
       " <div class=\"content_title\">NASA's Perseverance Mars Rover Gets Balanced</div>\n",
       " <div class=\"article_teaser_body\">The mission team performed a crucial weight-balancing test on the rover in preparation for this summer's history-making launch to the Red Planet.</div>\n",
       " </div>,\n",
       " <div class=\"list_text\">\n",
       " <div class=\"list_date\">August 20, 2022</div>\n",
       " <div class=\"content_title\">NASA's Curiosity Keeps Rolling As Team Operates Rover From Home</div>\n",
       " <div class=\"article_teaser_body\">The team has learned to meet new challenges as they work remotely on the Mars mission.</div>\n",
       " </div>,\n",
       " <div class=\"list_text\">\n",
       " <div class=\"list_date\">August 17, 2022</div>\n",
       " <div class=\"content_title\">Alabama High School Student Names NASA's Mars Helicopter</div>\n",
       " <div class=\"article_teaser_body\">Vaneeza Rupani's essay was chosen as the name for the small spacecraft, which will mark NASA's first attempt at powered flight on another planet.</div>\n",
       " </div>]"
      ]
     },
     "execution_count": 8,
     "metadata": {},
     "output_type": "execute_result"
    }
   ],
   "source": [
    "# Examine the results, then determine element that contains sought info\n",
    "# results are returned as an iterable list\n",
    "results = soup.find_all('div', class_='list_text')\n",
    "results"
   ]
  },
  {
   "cell_type": "code",
   "execution_count": 9,
   "id": "269fb2d8",
   "metadata": {},
   "outputs": [
    {
     "name": "stdout",
     "output_type": "stream",
     "text": [
      "-------------\n",
      "September 14, 2022\n",
      "Two Rovers to Roll on Mars Again: Curiosity and Mars 2020\n",
      "They look like twins. But under the hood, the rover currently exploring the Red Planet and the one launching there this summer have distinct science tools and roles to play.\n",
      "Data not found\n",
      "-------------\n",
      "September 13, 2022\n",
      "Nine Finalists Chosen in NASA's Mars 2020 Rover Naming Contest\n",
      "Nine finalists have been chosen in the essay contest for K-12 students across U.S. to name NASA's next Mars rover. Now you can help by voting for your favorite. \n",
      "Data not found\n",
      "-------------\n",
      "September 13, 2022\n",
      "The Detective Aboard NASA's Perseverance Rover\n",
      "An instrument called SHERLOC will, with the help of its partner WATSON, hunt for signs of ancient life by detecting organic molecules and minerals.\n",
      "Data not found\n",
      "-------------\n",
      "September 12, 2022\n",
      "Newfound Martian Aurora Actually the Most Common; Sheds Light on Mars' Changing Climate\n",
      "A type of Martian aurora first identified by NASA’s MAVEN spacecraft in 2016 is actually the most common form of aurora occurring on the Red Planet, according to new results from the mission.\n",
      "Data not found\n",
      "-------------\n",
      "September 9, 2022\n",
      "NASA's Curiosity Mars Rover Snaps Its Highest-Resolution Panorama Yet\n",
      "To go along with the stunning 1.8-billion-pixel image, a new video offers a sweeping view of the Red Planet.\n",
      "Data not found\n",
      "-------------\n",
      "September 7, 2022\n",
      "Mars Is Getting a New Robotic Meteorologist\n",
      "Sensors on NASA's Perseverance will help prepare for future human exploration by taking weather measurements and studying dust particles.\n",
      "Data not found\n",
      "-------------\n",
      "September 5, 2022\n",
      "The MarCO Mission Comes to an End\n",
      "The pair of briefcase-sized satellites made history when they sailed past Mars in 2019.\n",
      "Data not found\n",
      "-------------\n",
      "August 31, 2022\n",
      "NASA's Perseverance Rover Is Midway to Mars \n",
      "Sometimes half measures can be a good thing – especially on a journey this long. The agency's latest rover only has about 146 million miles left to reach its destination.\n",
      "Data not found\n",
      "-------------\n",
      "August 28, 2022\n",
      "NASA's Curiosity Takes Selfie With 'Mary Anning' on the Red Planet\n",
      "The Mars rover has drilled three samples of rock in this clay-enriched region since arriving in July.\n",
      "Data not found\n",
      "-------------\n",
      "August 22, 2022\n",
      "NASA's Perseverance Rover 100 Days Out\n",
      "Mark your calendars: The agency's latest rover has only about 8,640,000 seconds to go before it touches down on the Red Planet, becoming history's next Mars car.\n",
      "Data not found\n",
      "-------------\n",
      "August 21, 2022\n",
      "A Year of Surprising Science From NASA's InSight Mars Mission\n",
      "A batch of new papers summarizes the lander's findings above and below the surface of the Red Planet.\n",
      "Data not found\n",
      "-------------\n",
      "August 20, 2022\n",
      "AI Is Helping Scientists Discover Fresh Craters on Mars\n",
      "It's the first time machine learning has been used to find previously unknown craters on the Red Planet.\n",
      "Data not found\n",
      "-------------\n",
      "August 20, 2022\n",
      "NASA's Perseverance Mars Rover Gets Balanced\n",
      "The mission team performed a crucial weight-balancing test on the rover in preparation for this summer's history-making launch to the Red Planet.\n",
      "Data not found\n",
      "-------------\n",
      "August 20, 2022\n",
      "NASA's Curiosity Keeps Rolling As Team Operates Rover From Home\n",
      "The team has learned to meet new challenges as they work remotely on the Mars mission.\n",
      "Data not found\n",
      "-------------\n",
      "August 17, 2022\n",
      "Alabama High School Student Names NASA's Mars Helicopter\n",
      "Vaneeza Rupani's essay was chosen as the name for the small spacecraft, which will mark NASA's first attempt at powered flight on another planet.\n",
      "Data not found\n"
     ]
    }
   ],
   "source": [
    "# Loop through returned results\n",
    "for result in results:\n",
    "    \n",
    "    # Error handling\n",
    "    try:\n",
    "        # Identify and return title of listing\n",
    "        date = result.find('div', class_='list_date').text\n",
    "        title = result.find('div', class_='content_title').text\n",
    "        # Identify and return the explanation of the listing\n",
    "        paragraph = result.find('div', class_='article_teaser_body').text\n",
    "       \n",
    "\n",
    "        # Run only if date and title and paragraph are available\n",
    "        if (date and title and paragraph):\n",
    "            # Print results\n",
    "            print('-------------')\n",
    "            print(date)\n",
    "            print(title)\n",
    "            print(paragraph)\n",
    "            \n",
    "            listing = {'date':date, 'title': title, 'paragraph':paragraph}\n",
    "            listings_df = pd.concat([listings_df, listing], axis=0)\n",
    "        \n",
    "    except:       \n",
    "            print('Data not found')\n"
   ]
  },
  {
   "cell_type": "code",
   "execution_count": 10,
   "id": "7c18917f",
   "metadata": {},
   "outputs": [],
   "source": [
    "browser.quit()"
   ]
  },
  {
   "cell_type": "markdown",
   "id": "f3a6bc04",
   "metadata": {},
   "source": [
    "### JPL Mars Space Images—Featured Image"
   ]
  },
  {
   "cell_type": "code",
   "execution_count": 25,
   "id": "612eaf3e",
   "metadata": {},
   "outputs": [],
   "source": [
    "executable_path = {'executable_path': ChromeDriverManager().install()}\n",
    "browser = Browser('chrome', **executable_path, headless=False)"
   ]
  },
  {
   "cell_type": "code",
   "execution_count": 12,
   "id": "7157e802",
   "metadata": {},
   "outputs": [],
   "source": [
    "url = 'https://spaceimages-mars.com/'\n",
    "browser.visit(url)"
   ]
  },
  {
   "cell_type": "code",
   "execution_count": 13,
   "id": "dccdeed4",
   "metadata": {},
   "outputs": [
    {
     "name": "stdout",
     "output_type": "stream",
     "text": [
      "https://spaceimages-mars.com/image/featured/mars3.jpg\n"
     ]
    }
   ],
   "source": [
    "# HTML Object \n",
    "html_image = browser.html\n",
    "\n",
    "# Parse HTML with Beautiful Soup\n",
    "soup = BeautifulSoup(html_image, 'html.parser')\n",
    "\n",
    "relative_image_path = soup.find_all('img')[1][\"src\"]\n",
    "\n",
    "featured_image_url = url + relative_image_path\n",
    "print(featured_image_url)"
   ]
  },
  {
   "cell_type": "code",
   "execution_count": 15,
   "id": "93b804a3",
   "metadata": {},
   "outputs": [],
   "source": [
    "browser.quit()"
   ]
  },
  {
   "cell_type": "markdown",
   "id": "cd20bdaf",
   "metadata": {},
   "source": [
    "### Mars Facts"
   ]
  },
  {
   "cell_type": "code",
   "execution_count": 16,
   "id": "e8abbb26",
   "metadata": {},
   "outputs": [
    {
     "data": {
      "text/plain": [
       "[                         0                1                2\n",
       " 0  Mars - Earth Comparison             Mars            Earth\n",
       " 1                Diameter:         6,779 km        12,742 km\n",
       " 2                    Mass:  6.39 × 10^23 kg  5.97 × 10^24 kg\n",
       " 3                   Moons:                2                1\n",
       " 4       Distance from Sun:   227,943,824 km   149,598,262 km\n",
       " 5          Length of Year:   687 Earth days      365.24 days\n",
       " 6             Temperature:     -87 to -5 °C      -88 to 58°C,\n",
       "                       0                              1\n",
       " 0  Equatorial Diameter:                       6,792 km\n",
       " 1       Polar Diameter:                       6,752 km\n",
       " 2                 Mass:  6.39 × 10^23 kg (0.11 Earths)\n",
       " 3                Moons:          2 ( Phobos & Deimos )\n",
       " 4       Orbit Distance:       227,943,824 km (1.38 AU)\n",
       " 5         Orbit Period:           687 days (1.9 years)\n",
       " 6  Surface Temperature:                   -87 to -5 °C\n",
       " 7         First Record:              2nd millennium BC\n",
       " 8          Recorded By:           Egyptian astronomers]"
      ]
     },
     "execution_count": 16,
     "metadata": {},
     "output_type": "execute_result"
    }
   ],
   "source": [
    "url = 'https://galaxyfacts-mars.com'\n",
    "tables = pd.read_html(url)\n",
    "tables"
   ]
  },
  {
   "cell_type": "code",
   "execution_count": 17,
   "id": "71afa1b3",
   "metadata": {},
   "outputs": [
    {
     "data": {
      "text/plain": [
       "list"
      ]
     },
     "execution_count": 17,
     "metadata": {},
     "output_type": "execute_result"
    }
   ],
   "source": [
    "type(tables)"
   ]
  },
  {
   "cell_type": "code",
   "execution_count": 18,
   "id": "a49c2628",
   "metadata": {},
   "outputs": [
    {
     "data": {
      "text/html": [
       "<div>\n",
       "<style scoped>\n",
       "    .dataframe tbody tr th:only-of-type {\n",
       "        vertical-align: middle;\n",
       "    }\n",
       "\n",
       "    .dataframe tbody tr th {\n",
       "        vertical-align: top;\n",
       "    }\n",
       "\n",
       "    .dataframe thead th {\n",
       "        text-align: right;\n",
       "    }\n",
       "</style>\n",
       "<table border=\"1\" class=\"dataframe\">\n",
       "  <thead>\n",
       "    <tr style=\"text-align: right;\">\n",
       "      <th></th>\n",
       "      <th>0</th>\n",
       "      <th>1</th>\n",
       "      <th>2</th>\n",
       "    </tr>\n",
       "  </thead>\n",
       "  <tbody>\n",
       "    <tr>\n",
       "      <th>0</th>\n",
       "      <td>Mars - Earth Comparison</td>\n",
       "      <td>Mars</td>\n",
       "      <td>Earth</td>\n",
       "    </tr>\n",
       "    <tr>\n",
       "      <th>1</th>\n",
       "      <td>Diameter:</td>\n",
       "      <td>6,779 km</td>\n",
       "      <td>12,742 km</td>\n",
       "    </tr>\n",
       "    <tr>\n",
       "      <th>2</th>\n",
       "      <td>Mass:</td>\n",
       "      <td>6.39 × 10^23 kg</td>\n",
       "      <td>5.97 × 10^24 kg</td>\n",
       "    </tr>\n",
       "    <tr>\n",
       "      <th>3</th>\n",
       "      <td>Moons:</td>\n",
       "      <td>2</td>\n",
       "      <td>1</td>\n",
       "    </tr>\n",
       "    <tr>\n",
       "      <th>4</th>\n",
       "      <td>Distance from Sun:</td>\n",
       "      <td>227,943,824 km</td>\n",
       "      <td>149,598,262 km</td>\n",
       "    </tr>\n",
       "    <tr>\n",
       "      <th>5</th>\n",
       "      <td>Length of Year:</td>\n",
       "      <td>687 Earth days</td>\n",
       "      <td>365.24 days</td>\n",
       "    </tr>\n",
       "    <tr>\n",
       "      <th>6</th>\n",
       "      <td>Temperature:</td>\n",
       "      <td>-87 to -5 °C</td>\n",
       "      <td>-88 to 58°C</td>\n",
       "    </tr>\n",
       "  </tbody>\n",
       "</table>\n",
       "</div>"
      ],
      "text/plain": [
       "                         0                1                2\n",
       "0  Mars - Earth Comparison             Mars            Earth\n",
       "1                Diameter:         6,779 km        12,742 km\n",
       "2                    Mass:  6.39 × 10^23 kg  5.97 × 10^24 kg\n",
       "3                   Moons:                2                1\n",
       "4       Distance from Sun:   227,943,824 km   149,598,262 km\n",
       "5          Length of Year:   687 Earth days      365.24 days\n",
       "6             Temperature:     -87 to -5 °C      -88 to 58°C"
      ]
     },
     "execution_count": 18,
     "metadata": {},
     "output_type": "execute_result"
    }
   ],
   "source": [
    "table_df = tables[0]\n",
    "table_df "
   ]
  },
  {
   "cell_type": "code",
   "execution_count": 19,
   "id": "006a2ff8",
   "metadata": {},
   "outputs": [
    {
     "data": {
      "text/html": [
       "<div>\n",
       "<style scoped>\n",
       "    .dataframe tbody tr th:only-of-type {\n",
       "        vertical-align: middle;\n",
       "    }\n",
       "\n",
       "    .dataframe tbody tr th {\n",
       "        vertical-align: top;\n",
       "    }\n",
       "\n",
       "    .dataframe thead th {\n",
       "        text-align: right;\n",
       "    }\n",
       "</style>\n",
       "<table border=\"1\" class=\"dataframe\">\n",
       "  <thead>\n",
       "    <tr style=\"text-align: right;\">\n",
       "      <th></th>\n",
       "      <th>0</th>\n",
       "      <th>1</th>\n",
       "    </tr>\n",
       "  </thead>\n",
       "  <tbody>\n",
       "    <tr>\n",
       "      <th>1</th>\n",
       "      <td>Diameter:</td>\n",
       "      <td>6,779 km</td>\n",
       "    </tr>\n",
       "    <tr>\n",
       "      <th>2</th>\n",
       "      <td>Mass:</td>\n",
       "      <td>6.39 × 10^23 kg</td>\n",
       "    </tr>\n",
       "    <tr>\n",
       "      <th>3</th>\n",
       "      <td>Moons:</td>\n",
       "      <td>2</td>\n",
       "    </tr>\n",
       "    <tr>\n",
       "      <th>4</th>\n",
       "      <td>Distance from Sun:</td>\n",
       "      <td>227,943,824 km</td>\n",
       "    </tr>\n",
       "    <tr>\n",
       "      <th>5</th>\n",
       "      <td>Length of Year:</td>\n",
       "      <td>687 Earth days</td>\n",
       "    </tr>\n",
       "    <tr>\n",
       "      <th>6</th>\n",
       "      <td>Temperature:</td>\n",
       "      <td>-87 to -5 °C</td>\n",
       "    </tr>\n",
       "  </tbody>\n",
       "</table>\n",
       "</div>"
      ],
      "text/plain": [
       "                    0                1\n",
       "1           Diameter:         6,779 km\n",
       "2               Mass:  6.39 × 10^23 kg\n",
       "3              Moons:                2\n",
       "4  Distance from Sun:   227,943,824 km\n",
       "5     Length of Year:   687 Earth days\n",
       "6        Temperature:     -87 to -5 °C"
      ]
     },
     "execution_count": 19,
     "metadata": {},
     "output_type": "execute_result"
    }
   ],
   "source": [
    "# Drop the earth data from the dataframe\n",
    "table_df = table_df.drop([2], axis=1)\n",
    "table_df = table_df.iloc[1: , :]\n",
    "table_df"
   ]
  },
  {
   "cell_type": "code",
   "execution_count": 20,
   "id": "cd2dd11c",
   "metadata": {},
   "outputs": [
    {
     "data": {
      "text/plain": [
       "'<table border=\"1\" class=\"dataframe\">  <thead>    <tr style=\"text-align: right;\">      <th></th>      <th>0</th>      <th>1</th>    </tr>  </thead>  <tbody>    <tr>      <th>1</th>      <td>Diameter:</td>      <td>6,779 km</td>    </tr>    <tr>      <th>2</th>      <td>Mass:</td>      <td>6.39 × 10^23 kg</td>    </tr>    <tr>      <th>3</th>      <td>Moons:</td>      <td>2</td>    </tr>    <tr>      <th>4</th>      <td>Distance from Sun:</td>      <td>227,943,824 km</td>    </tr>    <tr>      <th>5</th>      <td>Length of Year:</td>      <td>687 Earth days</td>    </tr>    <tr>      <th>6</th>      <td>Temperature:</td>      <td>-87 to -5 °C</td>    </tr>  </tbody></table>'"
      ]
     },
     "execution_count": 20,
     "metadata": {},
     "output_type": "execute_result"
    }
   ],
   "source": [
    "# Convert the table back to HTML\n",
    "html_table = table_df.to_html()\n",
    "html_table = html_table.replace('\\n','')\n",
    "html_table"
   ]
  },
  {
   "cell_type": "markdown",
   "id": "1a0d119e",
   "metadata": {},
   "source": [
    "### Mars Hemispheres"
   ]
  },
  {
   "cell_type": "code",
   "execution_count": 21,
   "id": "33570a68",
   "metadata": {},
   "outputs": [],
   "source": [
    "executable_path = {'executable_path': ChromeDriverManager().install()}\n",
    "browser = Browser('chrome', **executable_path, headless=False)\n",
    "url = 'https://marshemispheres.com/'\n",
    "browser.visit(url)"
   ]
  },
  {
   "cell_type": "code",
   "execution_count": 22,
   "id": "37777aa8",
   "metadata": {},
   "outputs": [],
   "source": [
    "hemisphere_image_urls = []"
   ]
  },
  {
   "cell_type": "code",
   "execution_count": 23,
   "id": "8b12cc3a",
   "metadata": {},
   "outputs": [
    {
     "data": {
      "text/plain": [
       "[{'title': 'Cerberus Hemisphere Enhanced',\n",
       "  'img_url': 'https://marshemispheres.com/images/f5e372a36edfa389625da6d0cc25d905_cerberus_enhanced.tif_full.jpg'},\n",
       " {'title': 'Schiaparelli Hemisphere Enhanced',\n",
       "  'img_url': 'https://marshemispheres.com/images/3778f7b43bbbc89d6e3cfabb3613ba93_schiaparelli_enhanced.tif_full.jpg'},\n",
       " {'title': 'Syrtis Major Hemisphere Enhanced',\n",
       "  'img_url': 'https://marshemispheres.com/images/555e6403a6ddd7ba16ddb0e471cadcf7_syrtis_major_enhanced.tif_full.jpg'},\n",
       " {'title': 'Valles Marineris Hemisphere Enhanced',\n",
       "  'img_url': 'https://marshemispheres.com/images/b3c7c6c9138f57b4756be9b9c43e3a48_valles_marineris_enhanced.tif_full.jpg'}]"
      ]
     },
     "execution_count": 23,
     "metadata": {},
     "output_type": "execute_result"
    }
   ],
   "source": [
    "# Get a List of All the Hemispheres\n",
    "# HTML Object\n",
    "html_hemispheres = browser.html\n",
    "\n",
    "# Parse HTML with Beautiful Soup\n",
    "soup = BeautifulSoup(html_hemispheres, 'html.parser')\n",
    "\n",
    "# Retreive all items that contain mars hemispheres information\n",
    "items = soup.find_all('div', class_='item')\n",
    "\n",
    "# Create empty list for hemisphere urls \n",
    "hemisphere_image_urls = []\n",
    "\n",
    "# Store the main_ul \n",
    "hemispheres_main_url = 'https://marshemispheres.com/'\n",
    "\n",
    "# Loop through the items previously stored\n",
    "for i in items: \n",
    "    # Store title\n",
    "    title = i.find('h3').text\n",
    "    \n",
    "    # Store link that leads to full image website\n",
    "    partial_img_url = i.find('a', class_='itemLink product-item')['href']\n",
    "    \n",
    "    # Visit the link that contains the full image website \n",
    "    browser.visit(hemispheres_main_url + partial_img_url)\n",
    "    \n",
    "    # HTML Object of individual hemisphere information website \n",
    "    partial_img_html = browser.html\n",
    "    \n",
    "    # Parse HTML with Beautiful Soup for every individual hemisphere information website \n",
    "    soup = BeautifulSoup( partial_img_html, 'html.parser')\n",
    "    \n",
    "    # Retrieve full image source \n",
    "  \n",
    "    img_url = hemispheres_main_url + soup.find('img', class_='wide-image')['src']\n",
    "    \n",
    "    # Append the retreived information into a list of dictionaries \n",
    "    hemisphere_image_urls.append({\"title\" : title, \"img_url\" : img_url})\n",
    "    \n",
    "\n",
    "# Display hemisphere_image_urls\n",
    "hemisphere_image_urls"
   ]
  },
  {
   "cell_type": "code",
   "execution_count": 24,
   "id": "3165c7a0",
   "metadata": {},
   "outputs": [],
   "source": [
    "browser.quit()"
   ]
  }
 ],
 "metadata": {
  "kernelspec": {
   "display_name": "Python 3 (ipykernel)",
   "language": "python",
   "name": "python3"
  },
  "language_info": {
   "codemirror_mode": {
    "name": "ipython",
    "version": 3
   },
   "file_extension": ".py",
   "mimetype": "text/x-python",
   "name": "python",
   "nbconvert_exporter": "python",
   "pygments_lexer": "ipython3",
   "version": "3.8.13"
  }
 },
 "nbformat": 4,
 "nbformat_minor": 5
}
